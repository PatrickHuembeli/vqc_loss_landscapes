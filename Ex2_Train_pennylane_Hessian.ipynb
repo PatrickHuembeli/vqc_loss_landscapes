{
 "cells": [
  {
   "cell_type": "markdown",
   "metadata": {},
   "source": [
    "# Example: Pennylane version for QNN trained on Data\n",
    "\n",
    "This code can train the QNN and calculate the Hessian with pennylane."
   ]
  },
  {
   "cell_type": "code",
   "execution_count": null,
   "metadata": {},
   "outputs": [
    {
     "name": "stdout",
     "output_type": "stream",
     "text": [
      "The autoreload extension is already loaded. To reload it, use:\n",
      "  %reload_ext autoreload\n"
     ]
    }
   ],
   "source": [
    "import pennylane as qml\n",
    "\n",
    "import matplotlib.pyplot as plt\n",
    "\n",
    "import os\n",
    "\n",
    "import pennylane as qml\n",
    "from pennylane import expval, var\n",
    "\n",
    "from vqc_loss_landscapes.pennylanecirq import *\n",
    "from vqc_loss_landscapes.data_helper import *\n",
    "\n",
    "from matplotlib import pyplot as plt\n",
    "\n",
    "\n",
    "from pennylane import numpy as np\n",
    "from pennylane.utils import _flatten, unflatten\n",
    "from pennylane.optimize import AdamOptimizer, GradientDescentOptimizer\n",
    "\n",
    "from tqdm import tqdm_notebook as tqdm\n",
    "\n",
    "%load_ext autoreload\n",
    "%autoreload 2"
   ]
  },
  {
   "cell_type": "markdown",
   "metadata": {},
   "source": [
    "## Quick test run of the circuit"
   ]
  },
  {
   "cell_type": "code",
   "execution_count": null,
   "metadata": {},
   "outputs": [
    {
     "data": {
      "text/plain": [
       "0.458984375"
      ]
     },
     "execution_count": null,
     "metadata": {},
     "output_type": "execute_result"
    }
   ],
   "source": [
    "width = 2\n",
    "device = \"qiskit.aer\"\n",
    "num_layers = 2\n",
    "\n",
    "model = Reuploading_model(device = device, width=width, layers=num_layers)\n",
    "dev = model.dev\n",
    "params = model.init_params\n",
    "model.qcircuit(params, x=[1,2,0], y=1)"
   ]
  },
  {
   "cell_type": "markdown",
   "metadata": {},
   "source": [
    "## Train Circuit and calculate Hessian during training"
   ]
  },
  {
   "cell_type": "code",
   "execution_count": null,
   "metadata": {},
   "outputs": [
    {
     "name": "stdout",
     "output_type": "stream",
     "text": [
      "1 0.091796875\n",
      "start_training\n"
     ]
    },
    {
     "name": "stderr",
     "output_type": "stream",
     "text": [
      "/Users/patrickhuembeli/anaconda3/envs/QC/lib/python3.7/site-packages/ipykernel_launcher.py:44: TqdmDeprecationWarning: This function will be removed in tqdm==5.0.0\n",
      "Please use `tqdm.notebook.tqdm` instead of `tqdm.tqdm_notebook`\n"
     ]
    },
    {
     "data": {
      "application/vnd.jupyter.widget-view+json": {
       "model_id": "0cf885d7b52a4973a6dc343d6082d6a4",
       "version_major": 2,
       "version_minor": 0
      },
      "text/plain": [
       "HBox(children=(FloatProgress(value=0.0, max=1.0), HTML(value='')))"
      ]
     },
     "metadata": {},
     "output_type": "display_data"
    },
    {
     "name": "stdout",
     "output_type": "stream",
     "text": [
      "Hessian Dimension: 24, 24\n"
     ]
    },
    {
     "data": {
      "application/vnd.jupyter.widget-view+json": {
       "model_id": "fb7646970c9142ab921d25b6246c5c68",
       "version_major": 2,
       "version_minor": 0
      },
      "text/plain": [
       "HBox(children=(FloatProgress(value=0.0, max=24.0), HTML(value='')))"
      ]
     },
     "metadata": {},
     "output_type": "display_data"
    },
    {
     "name": "stdout",
     "output_type": "stream",
     "text": [
      "\n"
     ]
    }
   ],
   "source": [
    "num_test = 100\n",
    "Xtest, y_test = generate_circle_data(num_test)\n",
    "X_test = np.hstack((Xtest, np.zeros((Xtest.shape[0], 1)))) # Make input data 3D for Rot()\n",
    "\n",
    "zz = model.qcircuit(params, x=X_test[0], y=y_test[0])\n",
    "print(y_test[0], zz)\n",
    "\n",
    "\n",
    "\n",
    "\n",
    "directory = \"reupload_simple_circle\"\n",
    "\n",
    "# Generate training and test data\n",
    "num_training = 200\n",
    "num_test = 1000\n",
    "\n",
    "epsilon = 0  #In re-uploading paper they take 2D input and convert it to 3D, but the last entry is simply 0.\n",
    "                # This is because the Rot() gate takes 3 parameters. But pennylane devides the gradient by this\n",
    "                # Value and therefore we get an error, when we do that. So we can either add some small value\n",
    "                # epsilon. Or we change the qnode class in pennylane. For instruction, see below.\n",
    "\n",
    "Xdata, y_train = generate_circle_data(num_training)\n",
    "X_train = np.hstack((Xdata, epsilon*np.ones((Xdata.shape[0], 1))))\n",
    "\n",
    "Xtest, y_test = generate_circle_data(num_test)\n",
    "X_test = np.hstack((Xtest, epsilon*np.ones((Xtest.shape[0], 1))))\n",
    "\n",
    "\n",
    "\n",
    "epochs = 1\n",
    "batch_size = 32\n",
    "\n",
    "def training_run(width=None, num_layers=None):\n",
    "    device = 'forest.numpy_wavefunction'\n",
    "    qcirc = model.qcircuit\n",
    "\n",
    "    lr = 0.5\n",
    "\n",
    "\n",
    "    params = model.init_params\n",
    "\n",
    "    loss_list = []\n",
    "\n",
    "    for it in tqdm(range(epochs)):\n",
    "        H_train = Hessian(params, model, X=X_train[0:10], y=y_train[0:10])\n",
    "        Hev_train, Hv_train = np.linalg.eigh(H_train)\n",
    "        opt = qml.GradientDescentOptimizer(lr)\n",
    "\n",
    "        predicted_train, states_train = model.test(params, X_train, y_train)\n",
    "        accuracy_train = model.accuracy_score(y_train, predicted_train)\n",
    "        loss = model.cost(params, X_train, y_train)\n",
    "        loss_list.append(loss)\n",
    "\n",
    "        predicted_test, states_test = model.test(params, X_test, y_test)\n",
    "        accuracy_test = model.accuracy_score(y_test, predicted_test)\n",
    "\n",
    "        for Xbatch, ybatch in iterate_minibatches(X_train, y_train, batch_size=batch_size):\n",
    "            params = opt.step(lambda v: model.cost(v, Xbatch, ybatch), params)\n",
    "\n",
    "        res = [it + 1, loss, accuracy_train, accuracy_test]\n",
    "        print(\"Epoch: {:2d} | Loss: {:3f} | Train accuracy: {:3f} | Test accuracy: {:3f}\".format(*res))\n",
    "\n",
    "\n",
    "print(\"start_training\")\n",
    "training_run(width=2, num_layers=2)"
   ]
  },
  {
   "cell_type": "code",
   "execution_count": null,
   "metadata": {},
   "outputs": [],
   "source": []
  }
 ],
 "metadata": {
  "kernelspec": {
   "display_name": "Python 3",
   "language": "python",
   "name": "python3"
  }
 },
 "nbformat": 4,
 "nbformat_minor": 4
}
