{
 "cells": [
  {
   "cell_type": "markdown",
   "metadata": {},
   "source": [
    "# Example: Compare Hessian, metric tensor and vanilla SGD"
   ]
  },
  {
   "cell_type": "code",
   "execution_count": null,
   "metadata": {},
   "outputs": [
    {
     "name": "stdout",
     "output_type": "stream",
     "text": [
      "The autoreload extension is already loaded. To reload it, use:\n",
      "  %reload_ext autoreload\n"
     ]
    }
   ],
   "source": [
    "%matplotlib inline\n",
    "%load_ext autoreload\n",
    "%autoreload 2\n",
    "import numpy as np\n",
    "import os\n",
    "\n",
    "import pennylane as qml\n",
    "from pennylane import expval, var\n",
    "\n",
    "from matplotlib import pyplot as plt\n",
    "\n",
    "from vqc_loss_landscapes.hess_vs_metrictensor import *\n",
    "\n",
    "import numpy as np\n",
    "\n",
    "from pennylane.utils import _flatten, unflatten\n",
    "from pennylane.optimize import GradientDescentOptimizer\n",
    "\n",
    "from tqdm.notebook import tqdm as tqdm"
   ]
  },
  {
   "cell_type": "markdown",
   "metadata": {},
   "source": [
    "## Draw circuit with Qiskit.Aer device"
   ]
  },
  {
   "cell_type": "code",
   "execution_count": null,
   "metadata": {},
   "outputs": [
    {
     "data": {
      "text/html": [
       "<pre style=\"word-wrap: normal;white-space: pre;background: #fff0;line-height: 1.1;font-family: &quot;Courier New&quot;,Courier,monospace\">      ┌────────────┐┌────────────┐ ┌────────────┐   ┌───────────┐ »\n",
       "q_0: ─┤ RZ(5.3773) ├┤ RY(2.2459) ├─┤ RZ(2.0572) ├─■─┤ RZ(1.934) ├─»\n",
       "     ┌┴────────────┤├────────────┤┌┴────────────┤ │ ├───────────┴┐»\n",
       "q_1: ┤ RZ(0.24209) ├┤ RY(0.4382) ├┤ RZ(0.55355) ├─■─┤ RZ(4.2309) ├»\n",
       "     └─────────────┘└────────────┘└─────────────┘   └────────────┘»\n",
       "c_0: ═════════════════════════════════════════════════════════════»\n",
       "                                                                  »\n",
       "c_1: ═════════════════════════════════════════════════════════════»\n",
       "                                                                  »\n",
       "«     ┌────────────┐┌────────────┐   ┌──────────┐┌─┐   \n",
       "«q_0: ┤ RY(2.0928) ├┤ RZ(1.0993) ├─■─┤1         ├┤M├───\n",
       "«     ├────────────┤├────────────┤ │ │  unitary │└╥┘┌─┐\n",
       "«q_1: ┤ RY(0.5574) ├┤ RZ(3.8018) ├─■─┤0         ├─╫─┤M├\n",
       "«     └────────────┘└────────────┘   └──────────┘ ║ └╥┘\n",
       "«c_0: ════════════════════════════════════════════╩══╬═\n",
       "«                                                    ║ \n",
       "«c_1: ═══════════════════════════════════════════════╩═\n",
       "«                                                      </pre>"
      ],
      "text/plain": [
       "      ┌────────────┐┌────────────┐ ┌────────────┐   ┌───────────┐ »\n",
       "q_0: ─┤ RZ(5.3773) ├┤ RY(2.2459) ├─┤ RZ(2.0572) ├─■─┤ RZ(1.934) ├─»\n",
       "     ┌┴────────────┤├────────────┤┌┴────────────┤ │ ├───────────┴┐»\n",
       "q_1: ┤ RZ(0.24209) ├┤ RY(0.4382) ├┤ RZ(0.55355) ├─■─┤ RZ(4.2309) ├»\n",
       "     └─────────────┘└────────────┘└─────────────┘   └────────────┘»\n",
       "c_0: ═════════════════════════════════════════════════════════════»\n",
       "                                                                  »\n",
       "c_1: ═════════════════════════════════════════════════════════════»\n",
       "                                                                  »\n",
       "«     ┌────────────┐┌────────────┐   ┌──────────┐┌─┐   \n",
       "«q_0: ┤ RY(2.0928) ├┤ RZ(1.0993) ├─■─┤1         ├┤M├───\n",
       "«     ├────────────┤├────────────┤ │ │  unitary │└╥┘┌─┐\n",
       "«q_1: ┤ RY(0.5574) ├┤ RZ(3.8018) ├─■─┤0         ├─╫─┤M├\n",
       "«     └────────────┘└────────────┘   └──────────┘ ║ └╥┘\n",
       "«c_0: ════════════════════════════════════════════╩══╬═\n",
       "«                                                    ║ \n",
       "«c_1: ═══════════════════════════════════════════════╩═\n",
       "«                                                      "
      ]
     },
     "execution_count": null,
     "metadata": {},
     "output_type": "execute_result"
    }
   ],
   "source": [
    "width = 2  # must be odd\n",
    "layers = 2\n",
    "\n",
    "target = np.ones((2**width,))*(1/np.sqrt(2**width))\n",
    "rho_target = np.outer(target ,np.conj(target).T)\n",
    "\n",
    "init_params = np.random.uniform(low=0.0, high=2 * np.pi, size=width * layers *3)\n",
    "\n",
    "model = Setup_For_Training(layers, width, rho_target, device=\"qiskit.aer\")\n",
    "\n",
    "theta = init_params.copy()\n",
    "\n",
    "circuit = model.qcircuit\n",
    "\n",
    "circuit(theta)\n",
    "a = model.dev._circuit\n",
    "a.draw()"
   ]
  },
  {
   "cell_type": "markdown",
   "metadata": {},
   "source": [
    "## Optimize with SGD, metric tensor and Hessian"
   ]
  },
  {
   "cell_type": "code",
   "execution_count": null,
   "metadata": {},
   "outputs": [
    {
     "name": "stdout",
     "output_type": "stream",
     "text": [
      "normal SGD\n"
     ]
    },
    {
     "data": {
      "application/vnd.jupyter.widget-view+json": {
       "model_id": "619b1200ce184727a994c08bf0346d86",
       "version_major": 2,
       "version_minor": 0
      },
      "text/plain": [
       "HBox(children=(FloatProgress(value=0.0), HTML(value='')))"
      ]
     },
     "metadata": {},
     "output_type": "display_data"
    },
    {
     "name": "stdout",
     "output_type": "stream",
     "text": [
      "\n"
     ]
    },
    {
     "data": {
      "image/png": "[encoded data removed]",
      "text/plain": [
       "<Figure size 432x288 with 1 Axes>"
      ]
     },
     "metadata": {
      "needs_background": "light"
     },
     "output_type": "display_data"
    },
    {
     "name": "stdout",
     "output_type": "stream",
     "text": [
      "Metric Tensor\n"
     ]
    },
    {
     "data": {
      "application/vnd.jupyter.widget-view+json": {
       "model_id": "9663965087d44ea3b6026487ec022eae",
       "version_major": 2,
       "version_minor": 0
      },
      "text/plain": [
       "HBox(children=(FloatProgress(value=0.0), HTML(value='')))"
      ]
     },
     "metadata": {},
     "output_type": "display_data"
    },
    {
     "name": "stdout",
     "output_type": "stream",
     "text": [
      "\n"
     ]
    },
    {
     "data": {
      "image/png": "[encoded data removed]",
      "text/plain": [
       "<Figure size 432x288 with 1 Axes>"
      ]
     },
     "metadata": {
      "needs_background": "light"
     },
     "output_type": "display_data"
    },
    {
     "name": "stdout",
     "output_type": "stream",
     "text": [
      "Hessian\n"
     ]
    },
    {
     "data": {
      "application/vnd.jupyter.widget-view+json": {
       "model_id": "9e7489e8ad074c31b12cf58c05e1f86b",
       "version_major": 2,
       "version_minor": 0
      },
      "text/plain": [
       "HBox(children=(FloatProgress(value=0.0), HTML(value='')))"
      ]
     },
     "metadata": {},
     "output_type": "display_data"
    },
    {
     "name": "stdout",
     "output_type": "stream",
     "text": [
      "\n"
     ]
    },
    {
     "data": {
      "image/png": "[encoded data removed]",
      "text/plain": [
       "<Figure size 432x288 with 1 Axes>"
      ]
     },
     "metadata": {
      "needs_background": "light"
     },
     "output_type": "display_data"
    },
    {
     "data": {
      "image/png": "[encoded data removed]",
      "text/plain": [
       "<Figure size 432x288 with 1 Axes>"
      ]
     },
     "metadata": {
      "needs_background": "light"
     },
     "output_type": "display_data"
    }
   ],
   "source": [
    "shots = 8192\n",
    "epochs = 100\n",
    "\n",
    "width = 2\n",
    "layers = 2\n",
    "\n",
    "target = np.ones((2**width,))*(1/np.sqrt(2**width))\n",
    "rho_target = np.outer(target ,np.conj(target).T)\n",
    "\n",
    "model = Setup_For_Training(layers, width, rho_target, device=\"default.qubit\")\n",
    "\n",
    "theta = init_params.copy()\n",
    "\n",
    "circuit = model.qcircuit\n",
    "\n",
    "init_params = np.random.uniform(low=0.0, high=2 * np.pi, size=width * layers*3)\n",
    "plot_lists = []\n",
    "lr_list = []\n",
    "for run in range(3):\n",
    "    lr=0.1\n",
    "    opt = qml.GradientDescentOptimizer(lr)\n",
    "    epochs=100\n",
    "    if run==0:\n",
    "        print(\"normal SGD\")\n",
    "        get_hessian=False\n",
    "        get_metr_tens=False\n",
    "    if run==1:\n",
    "        print(\"Metric Tensor\")\n",
    "        get_hessian=False\n",
    "        get_metr_tens=True\n",
    "    if run==2:\n",
    "        print(\"Hessian\")\n",
    "        get_hessian=True\n",
    "        get_metr_tens=False\n",
    "\n",
    "    loss_list = []\n",
    "    learning_rates = []\n",
    "    metric_tensor_list = []\n",
    "    params = init_params.copy()\n",
    "    progress = tqdm(range(epochs), bar_format='{desc}')\n",
    "    for it in progress:\n",
    "        loss = model.cost_fidelity(params, circuit)\n",
    "        loss_list.append(loss)\n",
    "        if get_hessian==True:\n",
    "            H = model.Hessian(params, circuit)\n",
    "            Hev, Hv = np.linalg.eigh(H)\n",
    "            lr = 1/Hev.max()\n",
    "            opt = qml.GradientDescentOptimizer(lr)\n",
    "            params = opt.step(lambda v: model.cost_fidelity(v, circuit), params)\n",
    "        elif get_metr_tens == True:\n",
    "            params, tensor = step(params, lr, \n",
    "                                  circuit.metric_tensor([params], diag_approx=False), \n",
    "                                  opt, model, circuit, lam=0.00000001)\n",
    "            metric_tensor_list.append(tensor)\n",
    "        else:\n",
    "            params = opt.step(lambda v: model.cost_fidelity(v, circuit), params)\n",
    "\n",
    "        progress.set_description_str('loss: {:3f}'.format(loss))\n",
    "        learning_rates.append(lr)\n",
    "    plot_lists.append(loss_list)\n",
    "    lr_list.append(learning_rates)\n",
    "    plt.plot(loss_list)\n",
    "    plt.show()\n",
    "for plot in plot_lists:\n",
    "    plt.plot(plot)\n",
    "plt.show()"
   ]
  },
  {
   "cell_type": "code",
   "execution_count": null,
   "metadata": {},
   "outputs": [],
   "source": []
  }
 ],
 "metadata": {
  "kernelspec": {
   "display_name": "Python 3",
   "language": "python",
   "name": "python3"
  }
 },
 "nbformat": 4,
 "nbformat_minor": 4
}
